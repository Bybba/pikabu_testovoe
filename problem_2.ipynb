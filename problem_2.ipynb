{
 "cells": [
  {
   "cell_type": "code",
   "execution_count": 208,
   "metadata": {},
   "outputs": [],
   "source": [
    "import matplotlib.pyplot as plt\n",
    "import numpy as np\n",
    "import pandas as pd\n",
    "from scipy.stats import mannwhitneyu, skew\n",
    "from statsmodels.stats.proportion import proportions_ztest"
   ]
  },
  {
   "cell_type": "markdown",
   "metadata": {},
   "source": [
    "## Загрузка Данных\n",
    "Добавим данные и выведем базовую информацию о них. \n",
    "Это позволит мне удостовериться, что импортирование прошло успешно и данные не имеют пропусков."
   ]
  },
  {
   "cell_type": "code",
   "execution_count": 209,
   "metadata": {},
   "outputs": [
    {
     "data": {
      "text/html": [
       "<div>\n",
       "<style scoped>\n",
       "    .dataframe tbody tr th:only-of-type {\n",
       "        vertical-align: middle;\n",
       "    }\n",
       "\n",
       "    .dataframe tbody tr th {\n",
       "        vertical-align: top;\n",
       "    }\n",
       "\n",
       "    .dataframe thead th {\n",
       "        text-align: right;\n",
       "    }\n",
       "</style>\n",
       "<table border=\"1\" class=\"dataframe\">\n",
       "  <thead>\n",
       "    <tr style=\"text-align: right;\">\n",
       "      <th></th>\n",
       "      <th>user_id</th>\n",
       "      <th>ab_group</th>\n",
       "      <th>sum_views</th>\n",
       "      <th>retention_1</th>\n",
       "      <th>retention_7</th>\n",
       "      <th>log_sum_views</th>\n",
       "    </tr>\n",
       "  </thead>\n",
       "  <tbody>\n",
       "    <tr>\n",
       "      <th>0</th>\n",
       "      <td>5985237</td>\n",
       "      <td>test</td>\n",
       "      <td>5</td>\n",
       "      <td>False</td>\n",
       "      <td>False</td>\n",
       "      <td>1.791759</td>\n",
       "    </tr>\n",
       "    <tr>\n",
       "      <th>1</th>\n",
       "      <td>9721012</td>\n",
       "      <td>ctrl</td>\n",
       "      <td>4</td>\n",
       "      <td>False</td>\n",
       "      <td>False</td>\n",
       "      <td>1.609438</td>\n",
       "    </tr>\n",
       "    <tr>\n",
       "      <th>2</th>\n",
       "      <td>4850980</td>\n",
       "      <td>ctrl</td>\n",
       "      <td>13</td>\n",
       "      <td>False</td>\n",
       "      <td>False</td>\n",
       "      <td>2.639057</td>\n",
       "    </tr>\n",
       "    <tr>\n",
       "      <th>3</th>\n",
       "      <td>5461771</td>\n",
       "      <td>ctrl</td>\n",
       "      <td>13</td>\n",
       "      <td>False</td>\n",
       "      <td>True</td>\n",
       "      <td>2.639057</td>\n",
       "    </tr>\n",
       "    <tr>\n",
       "      <th>4</th>\n",
       "      <td>6689369</td>\n",
       "      <td>ctrl</td>\n",
       "      <td>12</td>\n",
       "      <td>False</td>\n",
       "      <td>False</td>\n",
       "      <td>2.564949</td>\n",
       "    </tr>\n",
       "    <tr>\n",
       "      <th>...</th>\n",
       "      <td>...</td>\n",
       "      <td>...</td>\n",
       "      <td>...</td>\n",
       "      <td>...</td>\n",
       "      <td>...</td>\n",
       "      <td>...</td>\n",
       "    </tr>\n",
       "    <tr>\n",
       "      <th>105418</th>\n",
       "      <td>5411922</td>\n",
       "      <td>ctrl</td>\n",
       "      <td>25</td>\n",
       "      <td>False</td>\n",
       "      <td>False</td>\n",
       "      <td>3.258097</td>\n",
       "    </tr>\n",
       "    <tr>\n",
       "      <th>105419</th>\n",
       "      <td>7862761</td>\n",
       "      <td>ctrl</td>\n",
       "      <td>117</td>\n",
       "      <td>True</td>\n",
       "      <td>True</td>\n",
       "      <td>4.770685</td>\n",
       "    </tr>\n",
       "    <tr>\n",
       "      <th>105420</th>\n",
       "      <td>2285458</td>\n",
       "      <td>ctrl</td>\n",
       "      <td>100</td>\n",
       "      <td>True</td>\n",
       "      <td>False</td>\n",
       "      <td>4.615121</td>\n",
       "    </tr>\n",
       "    <tr>\n",
       "      <th>105421</th>\n",
       "      <td>5889081</td>\n",
       "      <td>ctrl</td>\n",
       "      <td>1</td>\n",
       "      <td>False</td>\n",
       "      <td>False</td>\n",
       "      <td>0.693147</td>\n",
       "    </tr>\n",
       "    <tr>\n",
       "      <th>105422</th>\n",
       "      <td>1484251</td>\n",
       "      <td>ctrl</td>\n",
       "      <td>1</td>\n",
       "      <td>False</td>\n",
       "      <td>False</td>\n",
       "      <td>0.693147</td>\n",
       "    </tr>\n",
       "  </tbody>\n",
       "</table>\n",
       "<p>105423 rows × 6 columns</p>\n",
       "</div>"
      ],
      "text/plain": [
       "        user_id ab_group  sum_views  retention_1  retention_7  log_sum_views\n",
       "0       5985237     test          5        False        False       1.791759\n",
       "1       9721012     ctrl          4        False        False       1.609438\n",
       "2       4850980     ctrl         13        False        False       2.639057\n",
       "3       5461771     ctrl         13        False         True       2.639057\n",
       "4       6689369     ctrl         12        False        False       2.564949\n",
       "...         ...      ...        ...          ...          ...            ...\n",
       "105418  5411922     ctrl         25        False        False       3.258097\n",
       "105419  7862761     ctrl        117         True         True       4.770685\n",
       "105420  2285458     ctrl        100         True        False       4.615121\n",
       "105421  5889081     ctrl          1        False        False       0.693147\n",
       "105422  1484251     ctrl          1        False        False       0.693147\n",
       "\n",
       "[105423 rows x 6 columns]"
      ]
     },
     "metadata": {},
     "output_type": "display_data"
    },
    {
     "name": "stdout",
     "output_type": "stream",
     "text": [
      "<class 'pandas.core.frame.DataFrame'>\n",
      "RangeIndex: 105423 entries, 0 to 105422\n",
      "Data columns (total 6 columns):\n",
      " #   Column         Non-Null Count   Dtype  \n",
      "---  ------         --------------   -----  \n",
      " 0   user_id        105423 non-null  int64  \n",
      " 1   ab_group       105423 non-null  object \n",
      " 2   sum_views      105423 non-null  int64  \n",
      " 3   retention_1    105423 non-null  bool   \n",
      " 4   retention_7    105423 non-null  bool   \n",
      " 5   log_sum_views  105423 non-null  float64\n",
      "dtypes: bool(2), float64(1), int64(2), object(1)\n",
      "memory usage: 3.4+ MB\n",
      "\n",
      "\n",
      "user_id          0\n",
      "ab_group         0\n",
      "sum_views        0\n",
      "retention_1      0\n",
      "retention_7      0\n",
      "log_sum_views    0\n",
      "dtype: int64\n"
     ]
    }
   ],
   "source": [
    "data_df = pd.read_csv('ab_data.csv')\n",
    "data_df['log_sum_views'] = np.log1p(data_df['sum_views'])  # log1p для обработки нулевых значений. Не стану применять для тестов, но поможет в визуализации далее\n",
    "\n",
    "display(data_df)\n",
    "data_df.info()\n",
    "data_df.describe()\n",
    "\n",
    "print('\\n')\n",
    "print(data_df.isnull().sum()) # Пропусков нет, не нужно добавлять dropna"
   ]
  },
  {
   "cell_type": "markdown",
   "metadata": {},
   "source": [
    "### Проверим Данные на Ошибки\n",
    "\n",
    "Пропусков нет, но это не означает, что можно начинать анализ. Проверим, что в данных нет странных значений."
   ]
  },
  {
   "cell_type": "code",
   "execution_count": 210,
   "metadata": {},
   "outputs": [
    {
     "data": {
      "image/png": "[encoded data removed]",
      "text/plain": [
       "<Figure size 800x600 with 1 Axes>"
      ]
     },
     "metadata": {},
     "output_type": "display_data"
    },
    {
     "name": "stdout",
     "output_type": "stream",
     "text": [
      "       user_id ab_group  sum_views  retention_1  retention_7  log_sum_views\n",
      "56335  6390605     ctrl      49854        False         True      10.816874\n"
     ]
    }
   ],
   "source": [
    "plt.figure(figsize=(8, 6))\n",
    "plt.hist(data_df['sum_views'], bins=50, color='skyblue', edgecolor='black')\n",
    "\n",
    "plt.show()\n",
    "\n",
    "print(data_df.loc[data_df['sum_views'] > 5000])"
   ]
  },
  {
   "cell_type": "markdown",
   "metadata": {},
   "source": [
    "В данных найдено одно очень высокое значение (49854 просмотров у юзера 6390605). Так как это очень сильно отличается от других значений, я буду считать, что это значение является ошибочным. Уберем его из данных."
   ]
  },
  {
   "cell_type": "code",
   "execution_count": 211,
   "metadata": {},
   "outputs": [],
   "source": [
    "data_df = data_df[data_df['sum_views'] < 5000]"
   ]
  },
  {
   "cell_type": "markdown",
   "metadata": {},
   "source": [
    "# Начало Анализа\n",
    "\n",
    "Начнем разбирать наши данные. Я хочу проверить как они распределены, чтобы выбрать правильный тест."
   ]
  },
  {
   "cell_type": "code",
   "execution_count": 212,
   "metadata": {},
   "outputs": [
    {
     "name": "stdout",
     "output_type": "stream",
     "text": [
      "Skewness: 5.88\n"
     ]
    },
    {
     "data": {
      "image/png": "[encoded data removed]",
      "text/plain": [
       "<Figure size 800x600 with 1 Axes>"
      ]
     },
     "metadata": {},
     "output_type": "display_data"
    }
   ],
   "source": [
    "plt.figure(figsize=(8, 6))\n",
    "plt.hist(data_df['sum_views'], bins=50, color='skyblue', edgecolor='black')\n",
    "print(f\"Skewness: {skew(data_df['sum_views']):.2f}\")"
   ]
  },
  {
   "cell_type": "markdown",
   "metadata": {},
   "source": [
    "По гистограмме и skew мы можем определить, что данные распределены не нормально и имеют большой положительный хвост. t-test не подойдет, будем исползовать тест Манн-Уитни."
   ]
  },
  {
   "cell_type": "code",
   "execution_count": 213,
   "metadata": {},
   "outputs": [
    {
     "name": "stdout",
     "output_type": "stream",
     "text": [
      "U-stat: 1353594587.00, P Value: 0.0509\n",
      "Control Median: 17.0, Test Median: 16.0\n",
      "Control Mean: 51.28, Test Mean: 51.30\n"
     ]
    }
   ],
   "source": [
    "control = data_df[data_df['ab_group'] == 'ctrl']\n",
    "test = data_df[data_df['ab_group'] == 'test']\n",
    "\n",
    "u_stat, p_value = mannwhitneyu(test['sum_views'], control['sum_views'])\n",
    "print(f\"U-stat: {u_stat:.2f}, P Value: {p_value:.4f}\")\n",
    "\n",
    "print(f\"Control Median: {control['sum_views'].median()}, Test Median: {test['sum_views'].median()}\")\n",
    "print(f\"Control Mean: {control['sum_views'].mean():.2f}, Test Mean: {test['sum_views'].mean():.2f}\")"
   ]
  },
  {
   "cell_type": "markdown",
   "metadata": {},
   "source": [
    "## Результат\n",
    "\n",
    "P-value на границе нашего уровня значимости в 5%. Медиана и среднее значение двух груп отличается слабо. \n",
    "У нас есть несколько опций:\n",
    "1) Продолжить эксперимент, чтобы набрать больше данных.\n",
    "2) Признать нулевую гипотезу о том, что медиана просмотренных постов в двух группах не отличается.\n",
    "\n",
    "Я за второй вариант. Изменения в онбординге не повлияло на колличество просмотренных постов.\n",
    "Но, у нас есть еще прокси метрики, которые могут повлиять на финальное решение."
   ]
  },
  {
   "cell_type": "code",
   "execution_count": 214,
   "metadata": {},
   "outputs": [
    {
     "data": {
      "image/png": "[encoded data removed]",
      "text/plain": [
       "<Figure size 800x600 with 1 Axes>"
      ]
     },
     "metadata": {},
     "output_type": "display_data"
    }
   ],
   "source": [
    "bins = range(0, 10, 1)\n",
    "\n",
    "plt.figure(figsize=(8, 6))\n",
    "plt.hist(control['log_sum_views'], bins=bins, color='lightgreen', edgecolor='black', label = 'Control Distribution', alpha=0.9)\n",
    "plt.hist(test['log_sum_views'], bins=bins, color='lightblue', edgecolor='black', label = 'Test Distribution', alpha=0.9)\n",
    "plt.axvline(np.mean(control['log_sum_views']), color='green', linestyle='dashed', linewidth=2, label='Control Log Mean', alpha=0.8)\n",
    "plt.axvline(np.mean(test['log_sum_views']), color='blue', linestyle='dashed', linewidth=2, label='Test Log Mean', alpha=0.8)\n",
    "plt.title(\"Гистограмма log_sum_views\")\n",
    "plt.xlabel(\"log_sum_views\")\n",
    "plt.ylabel(\"Частота\")\n",
    "plt.legend()\n",
    "plt.show()"
   ]
  },
  {
   "cell_type": "markdown",
   "metadata": {},
   "source": [
    "Так как у нас не нормальное распределение данных, давайте взглянем на log. \n",
    "Данный график показывает, что распеределение просмотренных постов между двумя группами примерно одинаковое.\n",
    "\n",
    "### Прокси метрики\n",
    "\n",
    "Перед принятием решения, давайте посмотрим на другие доступные метрики. Изменение онбординга не способствовало увеличению кол-ва просмотренных постов, но могло улучшить другие показатели."
   ]
  },
  {
   "cell_type": "code",
   "execution_count": 215,
   "metadata": {},
   "outputs": [
    {
     "name": "stdout",
     "output_type": "stream",
     "text": [
      "Retention_1:\n",
      "Control: 26857/59933 (44.81%)\n",
      "Test: 20119/45489 (44.23%)\n",
      "z-statistic=-1.8877, p-value=0.0591\n",
      "\n",
      "---\n",
      "\n",
      "Retention_7:\n",
      "Control: 11424/59933 (19.06%)\n",
      "Test: 8279/45489 (18.20%)\n",
      "z-statistic=-3.5530, p-value=0.0004\n"
     ]
    }
   ],
   "source": [
    "retention1_control = control['retention_1'].sum()\n",
    "retention1_test = test['retention_1'].sum()\n",
    "n_control = control.shape[0]\n",
    "n_treatment = test.shape[0]\n",
    "count_retention1 = np.array([retention1_test, retention1_control])\n",
    "nobs_retention1 = np.array([n_treatment, n_control])\n",
    "z_stat, p_value = proportions_ztest(count_retention1, nobs_retention1)\n",
    "print(\"Retention_1:\")\n",
    "print(f\"Control: {retention1_control}/{n_control} ({retention1_control/n_control:.2%})\")\n",
    "print(f\"Test: {retention1_test}/{n_treatment} ({retention1_test/n_treatment:.2%})\")\n",
    "print(f\"z-statistic={z_stat:.4f}, p-value={p_value:.4f}\")\n",
    "\n",
    "print('\\n---\\n')\n",
    "\n",
    "retention7_control = control['retention_7'].sum()\n",
    "retention7_test = test['retention_7'].sum()\n",
    "count_retention7 = np.array([retention7_test, retention7_control])\n",
    "nobs_retention7 = np.array([n_treatment, n_control])\n",
    "z_stat, p_value = proportions_ztest(count_retention7, nobs_retention7)\n",
    "print(\"Retention_7:\")\n",
    "print(f\"Control: {retention7_control}/{n_control} ({retention7_control/n_control:.2%})\")\n",
    "print(f\"Test: {retention7_test}/{n_treatment} ({retention7_test/n_treatment:.2%})\")\n",
    "print(f\"z-statistic={z_stat:.4f}, p-value={p_value:.4f}\")"
   ]
  },
  {
   "cell_type": "markdown",
   "metadata": {},
   "source": [
    "P-value теста на Day 1 Retention опять близко к 5%. Но, как и в прошлый раз, я приму нулевую гипотезу. Изменение онбординга не повлияло на эту метрику. \n",
    "\n",
    "Однако, тест Day 7 Retenion показал интересный результат. P-value значительно меньше нашего %% уровня значимости, а это значит, что между группами скорее всего есть разница. Но, наша Z статистика отрицательна, а это значит, что retention тестовой группы ниже, чем у контрольной группы. \n",
    "\n",
    "## Вердикт\n",
    "\n",
    "На данный момент мы имеем следующие данные:\n",
    "1) Тест на медиану просмотренных постов находится на грани. Но среднии значения и медианы двух групп близки. \n",
    "2) Тест на Day 1 Retention показал, что между группами нет значимой разницы.\n",
    "3) Тест на Day 7 Retention показал, что тестовая группа возвращается реже, чем контрольная. \n",
    "\n",
    "#### Моя рекомендация:\n",
    "Оставить старый онбординг. Я не обнаружил значительных положительных результатов. А Day 7 Retention и вовсе упал. "
   ]
  },
  {
   "cell_type": "markdown",
   "metadata": {},
   "source": [
    "### Дополнительные метрики\n",
    "- Конверсия рекламы (клики)\n",
    "- Пути прохождения онбординга - где юзеры отпадают\n",
    "- Время, проведённое в приложении"
   ]
  }
 ],
 "metadata": {
  "kernelspec": {
   "display_name": "pandas_test",
   "language": "python",
   "name": "python3"
  },
  "language_info": {
   "codemirror_mode": {
    "name": "ipython",
    "version": 3
   },
   "file_extension": ".py",
   "mimetype": "text/x-python",
   "name": "python",
   "nbconvert_exporter": "python",
   "pygments_lexer": "ipython3",
   "version": "3.12.3"
  }
 },
 "nbformat": 4,
 "nbformat_minor": 2
}
